{
 "cells": [
  {
   "cell_type": "code",
   "execution_count": 2,
   "id": "4e2ae517",
   "metadata": {},
   "outputs": [],
   "source": [
    "import pandas as pd\n"
   ]
  },
  {
   "cell_type": "code",
   "execution_count": null,
   "id": "9cad3cd7",
   "metadata": {},
   "outputs": [],
   "source": [
    "#reading files\n",
    "pd.read_csv(path to file)\n",
    "pd.read_json(path to file)\n",
    "pd.read_sql()\n",
    "pd.read_excel()\n",
    "\n",
    "#saving files\n",
    "pd.to_csv(path to file)\n",
    "pd.to_json(path to file)\n",
    "pd.to_sql()\n",
    "pd.to_excel()"
   ]
  },
  {
   "cell_type": "code",
   "execution_count": null,
   "id": "9b9203fa",
   "metadata": {},
   "outputs": [],
   "source": [
    "#check data types\n",
    "df.dtypes\n",
    "\n",
    "#check the sytatical summary of each column\n",
    "df.describe()\n",
    "df.describe(include='all')\n",
    "df.info #shows the top and bottom 30 rows of the df"
   ]
  },
  {
   "cell_type": "markdown",
   "id": "a9f467af",
   "metadata": {},
   "source": [
    "# concepts of python api\n",
    "1. connection objects: database connections and manage transactions\n",
    "2. cursor object: to run queries"
   ]
  },
  {
   "cell_type": "code",
   "execution_count": 3,
   "id": "110e8952",
   "metadata": {},
   "outputs": [
    {
     "ename": "ModuleNotFoundError",
     "evalue": "No module named 'dbmodule'",
     "output_type": "error",
     "traceback": [
      "\u001b[0;31m---------------------------------------------------------------------------\u001b[0m",
      "\u001b[0;31mModuleNotFoundError\u001b[0m                       Traceback (most recent call last)",
      "Input \u001b[0;32mIn [3]\u001b[0m, in \u001b[0;36m<cell line: 1>\u001b[0;34m()\u001b[0m\n\u001b[0;32m----> 1\u001b[0m \u001b[38;5;28;01mfrom\u001b[39;00m \u001b[38;5;21;01mdbmodule\u001b[39;00m \u001b[38;5;28;01mimport\u001b[39;00m connect\n",
      "\u001b[0;31mModuleNotFoundError\u001b[0m: No module named 'dbmodule'"
     ]
    }
   ],
   "source": [
    "from dbmodule import connect\n",
    "#create connection\n",
    "connection = connect('databasename', 'username', 'psswd')\n",
    "\n",
    "#create cursor object\n",
    "cursor = connection.cursor()\n",
    "\n",
    "#Ruen qyueries\n",
    "cursor = cursor.execute('select * from mytable')\n",
    "results = cursor.fetchall()\n",
    "\n",
    "#free resources\n",
    "cursor.close()\n",
    "connection.close()"
   ]
  },
  {
   "cell_type": "markdown",
   "id": "4649597e",
   "metadata": {},
   "source": [
    "# Data cleaning/ wrangling\n",
    "\n",
    "### dealing with missing values\n",
    "\n",
    "* drop mising value \n",
    "* replace it with an average (of similar data points)\n",
    "* replace with mode (categorical variables)"
   ]
  },
  {
   "cell_type": "code",
   "execution_count": null,
   "id": "8340b599",
   "metadata": {},
   "outputs": [],
   "source": [
    "df.dropna(subset=['price'], axis=0, inplace=True) #modifythe data set directly\n",
    "mean = df['losses'].mean()\n",
    "df['losses'].replace(np.nan, mean)"
   ]
  },
  {
   "cell_type": "markdown",
   "id": "5a3ab8e8",
   "metadata": {},
   "source": [
    "# Data formatting"
   ]
  },
  {
   "cell_type": "code",
   "execution_count": null,
   "id": "ceb713c9",
   "metadata": {},
   "outputs": [],
   "source": [
    "df.rename(columns={'city_mpg': 'city-L/100km'}, inplace=True)"
   ]
  },
  {
   "cell_type": "code",
   "execution_count": null,
   "id": "b5cfbe79",
   "metadata": {},
   "outputs": [],
   "source": [
    "#datatype\n",
    "df.dtypes()\n",
    "#convert dattype\n",
    "df.astype('type you want to change to')"
   ]
  },
  {
   "cell_type": "markdown",
   "id": "5180e470",
   "metadata": {},
   "source": [
    "# Data Normalization\n",
    "\n",
    "* simple feature scaling\n",
    "\n",
    "$x_new = x_{old}/x_{max}$\n",
    "\n",
    "* min-max\n",
    "$x_{new} = x_{old} - x_{min} /x_{max} - x_{min}$\n",
    "\n",
    "* z-score\n",
    "$x_{new} = (x_{old}- \\mu)/ \\sigma$"
   ]
  },
  {
   "cell_type": "markdown",
   "id": "ba44d22b",
   "metadata": {},
   "source": [
    "# Data Binning"
   ]
  },
  {
   "cell_type": "code",
   "execution_count": null,
   "id": "ea259b4f",
   "metadata": {},
   "outputs": [],
   "source": [
    "#creating 4 bins\n",
    "bins = np.linspace(df['price'].min(), df['price'].min(), 4)\n",
    "group_names = ['low', 'medium', 'high']\n",
    "pd.cut(df['price', bins, labels=group_names, include_lowest=True])"
   ]
  },
  {
   "cell_type": "markdown",
   "id": "7147641c",
   "metadata": {},
   "source": [
    "# Categorical to numeric\n",
    "* add dummy varables for each unique category\n",
    "* assign 0 or 1 in each category. called one-hot encoding"
   ]
  },
  {
   "cell_type": "code",
   "execution_count": null,
   "id": "8438040a",
   "metadata": {},
   "outputs": [],
   "source": [
    "pd.get_dummies(df['price'])"
   ]
  },
  {
   "cell_type": "markdown",
   "id": "f4dbb74f",
   "metadata": {},
   "source": [
    "# EDA - Exploratory data analysis"
   ]
  },
  {
   "cell_type": "code",
   "execution_count": null,
   "id": "2a601acc",
   "metadata": {},
   "outputs": [],
   "source": [
    "df.discribe() # excludes all NaN\n",
    "\n",
    "#categorical data\n",
    "ddf = df['city_gate'].value_counts().to_frame()\n",
    "ddf.rename(columns={'city_mpg': 'city-L/100km'}, inplace=True)\n",
    "\n",
    "#box plot sns.boxplot(x=, y= data=df)\n",
    "#scatter plot"
   ]
  },
  {
   "cell_type": "code",
   "execution_count": null,
   "id": "47749656",
   "metadata": {},
   "outputs": [],
   "source": [
    "# groupby\n",
    "df_t = df[['drive-wheel', 'body type', 'price']]\n",
    "df_g = df_t.groupby(['drive-wheel', 'body type'], as_index = False).mean()"
   ]
  },
  {
   "cell_type": "code",
   "execution_count": null,
   "id": "29edd575",
   "metadata": {},
   "outputs": [],
   "source": [
    "df_p = df_g.pivot(index=\"drive wheel\", columns=\"body type\")\n",
    "\n",
    "#heatmaps\n",
    "plt.pcolor(df_p, cmap='Rddp')\n",
    "plt.colorbar()"
   ]
  },
  {
   "cell_type": "code",
   "execution_count": null,
   "id": "ee225901",
   "metadata": {},
   "outputs": [],
   "source": [
    "##correlation\n",
    "sns.regplot(x='', y='', data = df)\n",
    "#strength of a correlation with pearson correlation with correlation coefficient and\n",
    "#p-value (how certain we are about the correlation we calculated p< 0.001 strong, <0.05 moderate, < 0.1 weak,>0.1 no certainty)"
   ]
  },
  {
   "cell_type": "code",
   "execution_count": null,
   "id": "dd03a7a7",
   "metadata": {},
   "outputs": [],
   "source": [
    "p_cor, p_value = stats.pearsonr(df['price'], df['power'])\n",
    "\n",
    "#clculate correlation heatmap"
   ]
  },
  {
   "cell_type": "code",
   "execution_count": null,
   "id": "e6425a92",
   "metadata": {},
   "outputs": [],
   "source": [
    "#chi squared\n",
    "#test association between categorical variable. Does not state the type of relationaship between variables\n",
    "scipy.stats.chi2_coningency(cont_table, correction=True)# if pvalue is < 0.05 reject null hypothesis of no association"
   ]
  },
  {
   "cell_type": "markdown",
   "id": "9bfca680",
   "metadata": {},
   "source": [
    "# Model evaluation ML\n",
    " * reg"
   ]
  },
  {
   "cell_type": "code",
   "execution_count": null,
   "id": "f542cff6",
   "metadata": {},
   "outputs": [],
   "source": [
    "#regression plot\n",
    "import seaborn as sns\n",
    "sns.regplot(x='', y= '', data = df)\n",
    "\n",
    "#look at the spread of residual plot and if it is randomly spread around the x-axis then a linear model is appropriate\n",
    "sns.residplot(df['price'] , df['dummy']) #(dependent variable feature, dependent variable target)\n",
    "\n",
    "ax1 = sns.displot(df['price'], hist=False, color='r', label='Actual value')\n",
    "sns.displot(Yhat, hist=False, color='b', label='Predicted value', ax=ax1)"
   ]
  },
  {
   "cell_type": "code",
   "execution_count": null,
   "id": "2490c9a3",
   "metadata": {},
   "outputs": [],
   "source": []
  },
  {
   "cell_type": "code",
   "execution_count": null,
   "id": "8a4b2244",
   "metadata": {},
   "outputs": [],
   "source": []
  }
 ],
 "metadata": {
  "kernelspec": {
   "display_name": "Python 3 (ipykernel)",
   "language": "python",
   "name": "python3"
  },
  "language_info": {
   "codemirror_mode": {
    "name": "ipython",
    "version": 3
   },
   "file_extension": ".py",
   "mimetype": "text/x-python",
   "name": "python",
   "nbconvert_exporter": "python",
   "pygments_lexer": "ipython3",
   "version": "3.9.12"
  }
 },
 "nbformat": 4,
 "nbformat_minor": 5
}
